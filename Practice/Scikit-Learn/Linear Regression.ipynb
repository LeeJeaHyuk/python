{
 "cells": [
  {
   "cell_type": "markdown",
   "metadata": {},
   "source": [
    "## Linear Regression\n",
    "RMSE MSE MAE \n",
    "Cost Function\n",
    "R2 결정계수"
   ]
  },
  {
   "cell_type": "markdown",
   "metadata": {},
   "source": [
    "### Linear Regression 데이터를 가장 잘 표현하는 직선\n",
    "X =  np.array([5,10,15,20 ])  \n",
    "Y =  np.array ([16,23,31,50])\n",
    "위 데이터로 그래프를 그리면 아래와 같다  \n",
    "![linear01](../data/linear01.png)  \n",
    "데이터를 대표하는 하나의 직선을 표현하기 위해서는 어떻게 해야 하는가\n",
    "\n",
    "![linear02](../data/linear02.png)  \n",
    "임의의 한 직선에서 각 데이터로부터의 거리(오차)가 가장 작게 나타나게 된다면 그 직선은 데이터를 대표하는 직선이라고 할 수있을 것이다\n",
    "\n",
    "하지만 오차들을 더할 때 선 위의 점과 아래의 점을 더하게 되면 아래의 점은 음수의 형태를 띄게 되기 때문에 음수값을 바꾸어주어야 한다\n",
    "    1. 절댓값 -> MAE\n",
    "    2. 제곱 MSE\n",
    "제곱의 경우에는 오차가 더 커질 경우 절댓값과 비교해더 더 큰 오차임을 나타나게 되므로 각각의 오차가 커지는 것에 더 민감하게 되는 특징이 있다"
   ]
  },
  {
   "cell_type": "markdown",
   "metadata": {},
   "source": [
    "### 정규방정식의 해를 통해 최적 근사 찾기\n",
    "\n",
    "best approximation 최적 근사\n",
    "\n",
    "\\begin{align*}\n",
    "||b-proj_w{b}||<||b-w||  \\\\\n",
    "b-w = (b-proj_w{b}) + (proj_w{b}-w) \\\\\n",
    "||b-w||^2 = ||(b-proj_w{b})||^2 + ||(proj_w{b}-w)||^2 \\\\\n",
    "||(b-proj_w{b})||^2 < ||b-w||^2 \\\\\n",
    "(1)---||(b-proj_w{b})|| < ||b-w|| \\\\ \\\\\n",
    "\\end{align*}"
   ]
  },
  {
   "cell_type": "markdown",
   "metadata": {},
   "source": [
    "\\begin{align*}\n",
    "Ax = proj_w{b}  \\\\\n",
    "b-Ax = b - proj_w{b}  \\\\\n",
    "A^T(b-Ax) = A^T(b-proj_w{b})  \\\\\n",
    "A^T(b-proj_w{b}) = 0  \\\\\n",
    "A^T(b-Ax) = 0  \\\\\n",
    "A^T(b-Ax) = 0  \\\\\n",
    "(normal \\ equation) --- A^TAx = A^Tb  \\\\ \n",
    "\\\\\n",
    "proj_w{b} = Ax \\\\\n",
    "\\end{align*}"
   ]
  },
  {
   "cell_type": "markdown",
   "metadata": {},
   "source": [
    "\\begin{align*}\n",
    "y_1 = a_0+a_1x_1+...+a_mx_1^m \\\\\n",
    "y_2 = a_0+a_1x_2+...+a_mx_2^m \\\\\n",
    "... \\\\\n",
    "y_n = a_0+a_1x_n+...+a_mx_n^m \\\\\\\n",
    "\\\\\n",
    "matrix \\ form \\\\\n",
    "y = Mv \\\\\n",
    "\n",
    "y= \n",
    "\\begin{bmatrix}\n",
    "y_1\\\\y_2\\\\...\\\\y_n\n",
    "\\end{bmatrix}\n",
    ", \\\n",
    "M= \n",
    "\\begin{bmatrix}\n",
    "1&x_1&x_1^2&...&x_1^m\\\\1&x_2&x_2^2&...&x_2^m\\\\...\\\\1&x_n&x_n^2&...&x_n^m\n",
    "\\end{bmatrix}\n",
    ", \\\n",
    "v= \n",
    "\\begin{bmatrix}\n",
    "a_0\\\\a_1\\\\...\\\\a_m\n",
    "\\end{bmatrix}\n",
    "\\\\\n",
    "\\\\\n",
    "M^TMv=M^Ty \\\\\n",
    "||y-Mv|| \\\\\n",
    "\\\\\n",
    "(unique \\ solution)---v*=(M^TM)^{-1}M^Ty\n",
    "\n",
    "\\end{align*}"
   ]
  },
  {
   "cell_type": "code",
   "execution_count": 59,
   "metadata": {},
   "outputs": [],
   "source": [
    "from IPython.core.interactiveshell import InteractiveShell\n",
    "\n",
    "InteractiveShell.ast_node_interactivity=\"all\""
   ]
  },
  {
   "cell_type": "code",
   "execution_count": 60,
   "metadata": {},
   "outputs": [],
   "source": [
    "import pandas as pd\n",
    "import numpy as np"
   ]
  },
  {
   "cell_type": "markdown",
   "metadata": {},
   "source": [
    "## Reference\n"
   ]
  }
 ],
 "metadata": {
  "kernelspec": {
   "display_name": "Python 3.9.12 ('base')",
   "language": "python",
   "name": "python3"
  },
  "language_info": {
   "codemirror_mode": {
    "name": "ipython",
    "version": 3
   },
   "file_extension": ".py",
   "mimetype": "text/x-python",
   "name": "python",
   "nbconvert_exporter": "python",
   "pygments_lexer": "ipython3",
   "version": "3.9.12"
  },
  "orig_nbformat": 4,
  "vscode": {
   "interpreter": {
    "hash": "e4cce46d6be9934fbd27f9ca0432556941ea5bdf741d4f4d64c6cd7f8dfa8fba"
   }
  }
 },
 "nbformat": 4,
 "nbformat_minor": 2
}
