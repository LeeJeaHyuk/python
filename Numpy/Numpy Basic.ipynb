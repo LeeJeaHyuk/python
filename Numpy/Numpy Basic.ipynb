{
 "cells": [
  {
   "cell_type": "markdown",
   "metadata": {},
   "source": [
    "# basic Numpy Reference"
   ]
  },
  {
   "cell_type": "code",
   "execution_count": 2,
   "metadata": {},
   "outputs": [
    {
     "data": {
      "text/plain": [
       "'3.9.12 (main, Apr  4 2022, 05:22:27) [MSC v.1916 64 bit (AMD64)]'"
      ]
     },
     "execution_count": 2,
     "metadata": {},
     "output_type": "execute_result"
    }
   ],
   "source": [
    "# 버전 확인 : conda python 3.9.12 환경에서 실행함\n",
    "import sys\n",
    "sys.version"
   ]
  },
  {
   "cell_type": "markdown",
   "metadata": {},
   "source": [
    "### Python List"
   ]
  },
  {
   "cell_type": "markdown",
   "metadata": {},
   "source": [
    "#### 인덱싱 indexing"
   ]
  },
  {
   "cell_type": "code",
   "execution_count": 3,
   "metadata": {},
   "outputs": [
    {
     "name": "stdout",
     "output_type": "stream",
     "text": [
      "[1, 2, 3, 4, 5, 6]\n",
      "a[0]:1 \n",
      "a[1]:2 \n",
      "a[2]:3 \n",
      "a[3]:4 \n",
      "a[4]:5 \n",
      "a[5]:6 \n",
      "a[-1]:6 \n",
      "a[-2]:5 \n",
      "a[True]:2 \n",
      "a[False]:1\n"
     ]
    }
   ],
   "source": [
    "# 인덱싱 indexing\n",
    "a = [1,2,3,4,5,6]\n",
    "print(a)\n",
    "print(f'a[0]:{a[0]} \\na[1]:{a[1]} \\na[2]:{a[2]} \\na[3]:{a[3]} \\na[4]:{a[4]} \\na[5]:{a[5]} \\na[-1]:{a[-1]} \\na[-2]:{a[-2]} \\na[True]:{a[True]} \\na[False]:{a[False]}')\n"
   ]
  },
  {
   "cell_type": "markdown",
   "metadata": {},
   "source": [
    "#### 슬라이싱 slicing\n",
    "a[start:end + 1:step]"
   ]
  },
  {
   "cell_type": "code",
   "execution_count": 4,
   "metadata": {},
   "outputs": [
    {
     "name": "stdout",
     "output_type": "stream",
     "text": [
      "a[0:1]  :  [1]                   from index 0 to index 2\n",
      "a[:3]   :  [1, 2, 3]             시작 인덱스 생략가능\n",
      "a[2:5]  :  [3, 4, 5]             from index 2 to index 4\n",
      "a[2:]   :  [3, 4, 5, 6]          끝 인덱스 생략가능\n",
      "a[:]    :  [1, 2, 3, 4, 5, 6]    print(a) 와 동일\n",
      "a[::3]  :  [1, 4]                step을 3으로\n",
      "a[::-1] :  [6, 5, 4, 3, 2, 1]    요소의 순서를 거꾸로 변경한다\n"
     ]
    }
   ],
   "source": [
    "#### 슬라이싱 slicing\n",
    "a = [1,2,3,4,5,6]\n",
    "print(f'a[0:1]  :  {a[0:1]}                   from index 0 to index 2')  \n",
    "print(f'a[:3]   :  {a[:3]}             시작 인덱스 생략가능')   \n",
    "print(f'a[2:5]  :  {a[2:5]}             from index 2 to index 4')   \n",
    "print(f'a[2:]   :  {a[2:]}          끝 인덱스 생략가능')  \n",
    "print(f'a[:]    :  {a[:]}    print(a) 와 동일')    \n",
    "print(f'a[::3]  :  {a[::3]}                step을 3으로')  \n",
    "print(f'a[::-1] :  {a[::-1]}    요소의 순서를 거꾸로 변경한다') "
   ]
  },
  {
   "cell_type": "code",
   "execution_count": 5,
   "metadata": {},
   "outputs": [],
   "source": [
    "import numpy as np\n",
    "a = np.array([0,1,2,3,4,5])"
   ]
  },
  {
   "cell_type": "markdown",
   "metadata": {},
   "source": [
    "### 넘파이(NumPy) : 배열(ndarray, n dimension array)\n",
    "* 리스트(list) : Linked List구조(불연속), 동작 속도가 느리다, comma로 요소구별, 서로 다른 자료형 사용가능 \n",
    "* 배열(ndarray) : 연속된 메모리 구조, 동작 속도가 빠르다, comma를 사용하지 않고 공백으로 요소 구별,오직 한 가지 타입만 갖을 수 있다 "
   ]
  },
  {
   "cell_type": "markdown",
   "metadata": {},
   "source": [
    "#### np.arange(start,end+1,step)"
   ]
  },
  {
   "cell_type": "code",
   "execution_count": 6,
   "metadata": {},
   "outputs": [
    {
     "name": "stdout",
     "output_type": "stream",
     "text": [
      "a의 배열(ndarray) : [0 1 2 3 4 5 6 7 8 9]\n",
      "type of a : <class 'numpy.ndarray'> \n",
      "\n",
      "\n",
      "b의 배열(ndarray)(np.arange(1, 12, 2)) : [ 1  3  5  7  9 11]\n"
     ]
    }
   ],
   "source": [
    "#### np.arange(start,end+1,step)\n",
    "a = np.arange(10)\n",
    "b = np.arange(1, 12, 2)\n",
    "print(f'a의 배열(ndarray) : {a}')\n",
    "print(f'type of a : {type(a)} \\n\\n')\n",
    "print(f'b의 배열(ndarray)(np.arange(1, 12, 2)) : {b}')"
   ]
  },
  {
   "cell_type": "markdown",
   "metadata": {},
   "source": [
    "### 차원(dimension, Rank) 과 Shape\n",
    "* 차원(Dimension, Rank) : 1,2,3 차원 , n 차원, 첫 데이터까지의 대괄호의 갯수\n",
    "* Shape : 차원의 요소의 수, 튜플 형식\n",
    "##### 1차원 Shape : (x,)\n",
    "##### 2차원 Shape : (x,y)  , 행렬(matrix)\n",
    "##### 3차원 Shape : (x,y,z) , (면,행,열)\n",
    "...\n",
    "##### n차원 Shape : (x,y,z,....)"
   ]
  },
  {
   "cell_type": "code",
   "execution_count": 7,
   "metadata": {},
   "outputs": [
    {
     "name": "stdout",
     "output_type": "stream",
     "text": [
      "[ 0  1  2  3  4  5  6  7  8  9 10 11] <class 'numpy.ndarray'>\n",
      "shape로 차원 확인 (12,) : 1차원\n",
      "type of a.shape : <class 'tuple'> \n",
      "12\n"
     ]
    }
   ],
   "source": [
    "# 1차원의 배열의 Shape\n",
    "a = np.arange(12)\n",
    "print(a,type(a))\n",
    "print(f'shape로 차원 확인 {a.shape} : 1차원')  # (12,)  ----> 1차원\n",
    "t = a.shape\n",
    "print(f'type of a.shape : {type(t)} ')\n",
    "print((a.shape)[0]) # 1차원 안에 배열의 개수"
   ]
  },
  {
   "cell_type": "code",
   "execution_count": 8,
   "metadata": {},
   "outputs": [
    {
     "name": "stdout",
     "output_type": "stream",
     "text": [
      "[[0 1 2]\n",
      " [0 1 2]]\n",
      "(2, 3)\n",
      "2 3\n"
     ]
    }
   ],
   "source": [
    "# 2차원 배열의 Shape : 행(row,가로,수직,axis = 0) 과 열(column,세로,수평,axis =1)  ==> 필수 암기\n",
    "m = np.array([[0,1,2],\n",
    "              [0,1,2]])\n",
    "print(m)\n",
    "print(m.shape)   # (2,3)  --> 2차원 , 행렬(matrix)\n",
    "print(m.shape[0], m.shape[1])"
   ]
  },
  {
   "cell_type": "code",
   "execution_count": 9,
   "metadata": {},
   "outputs": [
    {
     "name": "stdout",
     "output_type": "stream",
     "text": [
      "1번째 면 : \n",
      " [[0 1 2]\n",
      " [3 4 5]] \n",
      "\n",
      "2번째 면 : \n",
      " [[0 1 2]\n",
      " [3 4 5]] \n",
      "\n",
      "(2, 2, 3) = (면, 행, 열)\n",
      "m.shape[0],m.shape[1],m.shape[2] = (2, 2, 3)\n"
     ]
    }
   ],
   "source": [
    "# 3차원 배열의 Shape : (면,행,열)\n",
    "m = np.array([[[0,1,2],\n",
    "               [3,4,5]],\n",
    "              [[0,1,2],\n",
    "               [3,4,5]]])\n",
    "# print(f'{m}\\n')\n",
    "\n",
    "for i in range(int(m.shape[0])):\n",
    "    print(f'{i+1}번째 면 : \\n {m[i]} \\n')\n",
    "\n",
    "print(f'{m.shape} = (면, 행, 열)')  # (2,2,3) ---> 3차원\n",
    "print(f'm.shape[0],m.shape[1],m.shape[2] = {m.shape[0],m.shape[1],m.shape[2]}')"
   ]
  },
  {
   "cell_type": "markdown",
   "metadata": {},
   "source": [
    "### 배열의 shape 바꾸기 : reshape() 함수"
   ]
  },
  {
   "cell_type": "code",
   "execution_count": 10,
   "metadata": {},
   "outputs": [
    {
     "name": "stdout",
     "output_type": "stream",
     "text": [
      "(행,열)\n",
      "\n",
      "(12,) : \n",
      " m1=[ 0  1  2  3  4  5  6  7  8  9 10 11]\n",
      " shape = (12,)\n",
      "\n",
      "(12,)->(3,4) : \n",
      " m2=[[ 0  1  2  3]\n",
      " [ 4  5  6  7]\n",
      " [ 8  9 10 11]]\n",
      " shape = (3, 4)\n",
      "\n",
      "(12,)->(4,3) : \n",
      " m3=[[ 0  1  2]\n",
      " [ 3  4  5]\n",
      " [ 6  7  8]\n",
      " [ 9 10 11]]\n",
      " shape = (4, 3) \n",
      "\n",
      "(12,)->(2,6) : \n",
      " m4=[[ 0  1  2  3  4  5]\n",
      " [ 6  7  8  9 10 11]]\n",
      " shape = (2, 6) \n",
      "\n",
      "(12,)->(12,1) : \n",
      " m5=[[ 0]\n",
      " [ 1]\n",
      " [ 2]\n",
      " [ 3]\n",
      " [ 4]\n",
      " [ 5]\n",
      " [ 6]\n",
      " [ 7]\n",
      " [ 8]\n",
      " [ 9]\n",
      " [10]\n",
      " [11]]\n",
      " shape = (12, 1) \n",
      "\n"
     ]
    }
   ],
   "source": [
    "# reshape로 행,열을 재배열하면 다음 행으로 넘어간다\n",
    "\n",
    "m1 = np.arange(12) # 0~11 배열\n",
    "m2 = m1.reshape(3,4)\n",
    "m3 = m1.reshape(4,3)\n",
    "m4 = m1.reshape(2,6)\n",
    "m5 = m1.reshape(12,1)\n",
    "\n",
    "print(f'(행,열)\\n')\n",
    "print(f'(12,) : \\n m1={m1}\\n shape = {m1.shape}\\n')  # (12,)\n",
    "print(f'(12,)->(3,4) : \\n m2={m2}\\n shape = {m2.shape}\\n')  # (3, 4)\n",
    "print(f'(12,)->(4,3) : \\n m3={m3}\\n shape = {m3.shape} \\n')  # (4, 3)\n",
    "print(f'(12,)->(2,6) : \\n m4={m4}\\n shape = {m4.shape} \\n')  # (2, 6)\n",
    "print(f'(12,)->(12,1) : \\n m5={m5}\\n shape = {m5.shape} \\n')  # (12, 1)"
   ]
  },
  {
   "cell_type": "code",
   "execution_count": 11,
   "metadata": {},
   "outputs": [
    {
     "name": "stdout",
     "output_type": "stream",
     "text": [
      "[[[ 0  1  2]\n",
      "  [ 3  4  5]]\n",
      "\n",
      " [[ 6  7  8]\n",
      "  [ 9 10 11]]] (2, 2, 3)\n"
     ]
    }
   ],
   "source": [
    "# 3차원 배열로 변환\n",
    "m3 = m1.reshape(2,2,3)\n",
    "print(m3,m3.shape)"
   ]
  },
  {
   "cell_type": "markdown",
   "metadata": {},
   "source": [
    "##### 4차원 연습"
   ]
  },
  {
   "cell_type": "code",
   "execution_count": 12,
   "metadata": {},
   "outputs": [
    {
     "name": "stdout",
     "output_type": "stream",
     "text": [
      "[[[[ 0  1]]\n",
      "\n",
      "  [[ 2  3]]]\n",
      "\n",
      "\n",
      " [[[ 4  5]]\n",
      "\n",
      "  [[ 6  7]]]\n",
      "\n",
      "\n",
      " [[[ 8  9]]\n",
      "\n",
      "  [[10 11]]]] (3, 2, 1, 2)\n",
      "\n",
      " m4[0]=\n",
      "[[[0 1]]\n",
      "\n",
      " [[2 3]]]\n",
      "\n",
      " m4[1]=\n",
      "[[[4 5]]\n",
      "\n",
      " [[6 7]]]\n",
      "\n",
      " m4[2]=\n",
      "[[[ 8  9]]\n",
      "\n",
      " [[10 11]]]\n"
     ]
    }
   ],
   "source": [
    "# 4차원 배열로 변환\n",
    "m4 = m1.reshape(3,2,1,2)\n",
    "print(m4,m4.shape)\n",
    "\n",
    "# 4차원 배열 첫번째 요소 출력해보기\n",
    "for i in range(3):\n",
    "    print(f'\\n m4[{i}]=\\n{m4[i]}')"
   ]
  },
  {
   "cell_type": "code",
   "execution_count": 13,
   "metadata": {},
   "outputs": [
    {
     "name": "stdout",
     "output_type": "stream",
     "text": [
      " m4[0]=\n",
      "[[[0 1]]\n",
      "\n",
      " [[2 3]]]\n",
      "\n",
      " m4[0][0]=\n",
      "[[0 1]]\n",
      "\n",
      " m4[0][0][0]=\n",
      "[0 1]\n",
      "\n",
      " m4[0][0][0][0]=\n",
      "0\n",
      "\n",
      " type(m4[0][0][0])=\n",
      "<class 'numpy.ndarray'>\n",
      "\n",
      " type(m4[0][0][0][0])=\n",
      "<class 'numpy.int32'>\n"
     ]
    }
   ],
   "source": [
    "print(f' m4[0]=\\n{m4[0]}')\n",
    "print(f'\\n m4[0][0]=\\n{m4[0][0]}')\n",
    "print(f'\\n m4[0][0][0]=\\n{m4[0][0][0]}')\n",
    "print(f'\\n m4[0][0][0][0]=\\n{m4[0][0][0][0]}')\n",
    "\n",
    "print(f'\\n type(m4[0][0][0])=\\n{type(m4[0][0][0])}')\n",
    "print(f'\\n type(m4[0][0][0][0])=\\n{type(m4[0][0][0][0])}')"
   ]
  },
  {
   "cell_type": "markdown",
   "metadata": {},
   "source": [
    "#### -1 을 사용한 reshape  : 요소수를 자동으로 계산"
   ]
  },
  {
   "cell_type": "code",
   "execution_count": 14,
   "metadata": {},
   "outputs": [
    {
     "name": "stdout",
     "output_type": "stream",
     "text": [
      "[ 0  1  2  3  4  5  6  7  8  9 10 11]\n",
      "(12,)\n",
      "\n",
      "reshape(-1,6)으로 -1의 부분인 행을 자동으로 계산한다 -> (2,6)\n",
      "[[ 0  1  2  3  4  5]\n",
      " [ 6  7  8  9 10 11]] (2, 6)\n",
      "\n",
      "reshape(4,-1)으로 -1의 부분인 열을 자동으로 계산한다 -> (4,3)\n",
      "[[ 0  1  2]\n",
      " [ 3  4  5]\n",
      " [ 6  7  8]\n",
      " [ 9 10 11]] (4, 3)\n"
     ]
    }
   ],
   "source": [
    "#### -1 을 사용한 reshape  : 요소수를 자동으로 계산\n",
    "m1 = np.arange(12)\n",
    "print(m1)\n",
    "print(m1.shape)  # (12,)\n",
    "\n",
    "print(f'\\nreshape(-1,6)으로 -1의 부분인 행을 자동으로 계산한다 -> (2,6)')\n",
    "m2 = m1.reshape(-1,6)  # 행의 요소수를 자동으로 계산(알아서 계산해서 만들어줌), 2\n",
    "print(m2,m2.shape)\n",
    "\n",
    "print(f'\\nreshape(4,-1)으로 -1의 부분인 열을 자동으로 계산한다 -> (4,3)')\n",
    "m2 = m1.reshape(4,-1)  # 열의 요소수를 자동으로 계산, 3\n",
    "print(m2,m2.shape)"
   ]
  },
  {
   "cell_type": "markdown",
   "metadata": {},
   "source": [
    "### 배열의 인덱싱과 슬라이싱"
   ]
  },
  {
   "cell_type": "code",
   "execution_count": 15,
   "metadata": {},
   "outputs": [
    {
     "name": "stdout",
     "output_type": "stream",
     "text": [
      "1차원 배열 : 리스트와 동일한 방법으로 인덱싱과 슬라이싱 가능하다\n",
      "[ 0  1  2  3  4  5  6  7  8  9 10 11] (12,)\n",
      "\n",
      "d[0]  : 0\n",
      "d[1]  : 1\n",
      "d[2]  : 2\n",
      "d[3]  : 3\n",
      "d[-1] : 11\n",
      "\n",
      "d[2:8] : [2 3 4 5 6 7]\n",
      "d[:]   : [ 0  1  2  3  4  5  6  7  8  9 10 11]\n",
      "d[:-1] : [ 0  1  2  3  4  5  6  7  8  9 10]\n",
      "\n",
      "[start:end:step] , step=-1(reverse)\n",
      "d[::2]  : [ 0  2  4  6  8 10]\n",
      "d[::-1] : [11 10  9  8  7  6  5  4  3  2  1  0]\n",
      "\n",
      "리스트처럼 요소 변경 가능\n",
      "d[0]=10 \n",
      "d = [10  1  2  3  4  5  6  7  8  9 10 11]\n"
     ]
    }
   ],
   "source": [
    "# 1차원 배열의 인덱싱과 슬라이싱 : list 와 동일한 방법\n",
    "d = np.arange(12)\n",
    "print(f'1차원 배열 : 리스트와 동일한 방법으로 인덱싱과 슬라이싱 가능하다')\n",
    "print(d,d.shape)  # (12,)\n",
    "\n",
    "# d[0],d[1],d[2],d[3],d[-1]\n",
    "print(f'\\nd[0]  : {d[0]}\\nd[1]  : {d[1]}\\nd[2]  : {d[2]}\\nd[3]  : {d[3]}\\nd[-1] : {d[-1]}')\n",
    "\n",
    "# d[2:8],d[:],d[:-1]\n",
    "print(f'\\nd[2:8] : {d[2:8]}\\nd[:]   : {d[:]}\\nd[:-1] : {d[:-1]}')\n",
    "\n",
    "# d[::2], d[::-1]\n",
    "print(f'\\n[start:end:step] , step=-1(reverse)')\n",
    "print(f'd[::2]  : {d[::2]}\\nd[::-1] : {d[::-1]}') # step을 -1로 하면 요소의 순서를 거꾸로 변경한다\n",
    "\n",
    "print(f'\\n리스트처럼 요소 변경 가능')\n",
    "d[0] = 10   # list 처럼 요소 변경이 가능\n",
    "print(f'd[0]=10 \\nd = {d}')"
   ]
  },
  {
   "cell_type": "code",
   "execution_count": 16,
   "metadata": {},
   "outputs": [
    {
     "name": "stdout",
     "output_type": "stream",
     "text": [
      "2차원 배열 인덱싱 슬라이싱\n",
      "2차원 배열 d = \n",
      "[[ 0  1  2  3]\n",
      " [ 4  5  6  7]\n",
      " [ 8  9 10 11]] \n",
      "d의 shape =(3, 4)\n",
      "\n",
      "인덱싱\n",
      "d[0][1] : 1\n",
      "d[0,1]  : 1\n",
      "d[2,1]  : 9\n",
      "\n",
      "슬라이싱\n",
      "d[0]   : [0 1 2 3]\n",
      "d[0,:] : [0 1 2 3]\n",
      "[[ 0  1  2]\n",
      " [ 4  5  6]\n",
      " [ 8  9 10]]\n",
      "[[ 1  2  3]\n",
      " [ 5  6  7]\n",
      " [ 9 10 11]]\n",
      "[[ 0  2]\n",
      " [ 8 10]]\n",
      "[[20 20 20 20]\n",
      " [ 4  5  6  7]\n",
      " [ 8  9 10 11]]\n",
      "[[30 20 20 30]\n",
      " [ 4  5  6  7]\n",
      " [30  9 10 30]]\n",
      "[[-1 -1 -1 -1]\n",
      " [-1 -1 -1 -1]\n",
      " [-1 -1 -1 -1]]\n"
     ]
    }
   ],
   "source": [
    "# 2차원 배열의 인덱싱과 슬라이싱 \n",
    "# data[행,열]\n",
    "print(f'2차원 배열 인덱싱 슬라이싱')\n",
    "d = np.arange(12).reshape(3,4)\n",
    "print(f'2차원 배열 d = \\n{d} \\nd의 shape ={d.shape}')\n",
    "\n",
    "# 인덱싱\n",
    "print(f'\\n인덱싱')\n",
    "print(f'd[0][1] : {d[0][1]}') \n",
    "print(f'd[0,1]  : {d[0,1]}')   \n",
    "print(f'd[2,1]  : {d[2,1]}')   \n",
    "\n",
    "# 슬라이싱\n",
    "print(f'\\n슬라이싱')\n",
    "print(f'd[0]   : {d[0]}')     # [0 1 2 3]\n",
    "print(f'd[0,:] : {d[0,:]}')   # [0 1 2 3]\n",
    "\n",
    "print(d[:,:-1])  # (3,3) , 마지막 열(컬럼)을 제외\n",
    "print(d[:,1:])   # (3,3) , 첫번째 열(컬럼)을 제외\n",
    "print(d[::2,::2])\n",
    "\n",
    "d[0] = 20   # 0번 행의 모든 요소를 20으로 변경\n",
    "print(d)\n",
    "\n",
    "d[::2,::3] = 30    # 슬라이싱 된 요소 전체를 한번에 변경할 수 있다\n",
    "print(d)\n",
    "\n",
    "d[:,:] = -1        # 전체 요소를 한번에 변경할 수 있다\n",
    "print(d)"
   ]
  },
  {
   "cell_type": "markdown",
   "metadata": {},
   "source": [
    "##### 3차원\n",
    "[[[ 0  1  2]  \n",
    "  [ 3  4  5]]  \n",
    "  \n",
    " [[ 6  7  8]  \n",
    "  [ 9 10 11]]]  \n",
    "d[:,:-1,:-1] 의미 [전체, 마지막 열 제거, 마지막 열 제거]  \n",
    "[[[0 1]]  \n",
    " [[6 7]]]   \n",
    "d[:,-1,-1]   의미 [전체, 마지막, 마지막]  \n",
    "[ 5 11]  \n",
    "d[:,:,-1]    의미 [전체, 전체, 마지막]  \n",
    "[[ 2  5]  \n",
    " [ 8 11]]  \n",
    "d[:,1:,1:]   의미 [전체, 1번째부터, 1번째부터]  \n",
    "[[[ 4  5]]  \n",
    "  \n",
    " [[10 11]]]  "
   ]
  },
  {
   "cell_type": "code",
   "execution_count": 33,
   "metadata": {},
   "outputs": [
    {
     "name": "stdout",
     "output_type": "stream",
     "text": [
      "3차원 배열\n",
      "[[[ 0  1  2]\n",
      "  [ 3  4  5]]\n",
      "\n",
      " [[ 6  7  8]\n",
      "  [ 9 10 11]]] (2, 2, 3)\n",
      "\n",
      "3차원 배열 인덱싱\n",
      "d[0][0][0] :  0\n",
      "d[0,0,0]   :  0\n",
      "d[0,1,2]   :  5\n",
      "\n",
      " 3차원 배열 슬라이싱\n",
      "------------\n",
      "[[[0 1]]\n",
      "\n",
      " [[6 7]]]\n",
      "------------\n",
      "[ 5 11]\n",
      "------------\n",
      "[[ 2  5]\n",
      " [ 8 11]]\n",
      "------------\n",
      "[[[ 4  5]]\n",
      "\n",
      " [[10 11]]]\n",
      "------------\n"
     ]
    }
   ],
   "source": [
    "# 3차원 배열의 인덱싱과 슬라이싱\n",
    "# data[면,행,열]\n",
    "print('3차원 배열')\n",
    "d = np.arange(12).reshape(2,2,3)\n",
    "print(d,d.shape)\n",
    "\n",
    "# 인덱싱\n",
    "print('\\n3차원 배열 인덱싱')\n",
    "print('d[0][0][0] : ',d[0][0][0])  # 0 old style\n",
    "print('d[0,0,0]   : ',d[0,0,0])    # 0\n",
    "print('d[0,1,2]   : ',d[0,1,2])    # 5\n",
    "\n",
    "# 슬라이싱\n",
    "print('\\n 3차원 배열 슬라이싱')\n",
    "print('------------')\n",
    "print(d[:,:-1,:-1])  # (2,1,2)\n",
    "print('------------')\n",
    "print(d[:,-1,-1])    # (2,)\n",
    "print('------------')\n",
    "print(d[:,:,-1])     # (2,2)\n",
    "print('------------')\n",
    "print(d[:,1:,1:])    # (2,1,2)\n",
    "print('------------')"
   ]
  },
  {
   "cell_type": "markdown",
   "metadata": {},
   "source": [
    "##### 인덱싱 슬라이싱 타입"
   ]
  },
  {
   "cell_type": "code",
   "execution_count": 34,
   "metadata": {},
   "outputs": [
    {
     "name": "stdout",
     "output_type": "stream",
     "text": [
      "[ 0  1  2  3  4  5  6  7  8  9 10 11] (12,)\n",
      "0\n",
      "[0]\n"
     ]
    }
   ],
   "source": [
    "# 인덱싱 결과는 scalar\n",
    "# 슬라이싱 결과는 ndarray\n",
    "a = np.arange(12)\n",
    "print(a,a.shape)\n",
    "\n",
    "print(a[0])    # 0, scalar\n",
    "print(a[0:1])  # [0] , 배열(ndarray)"
   ]
  },
  {
   "cell_type": "markdown",
   "metadata": {},
   "source": [
    "### 불린 인덱싱 : 조건식을 사용한 인덱싱, 조건 검색 필터를 사용한 추출(매우 중요)"
   ]
  },
  {
   "cell_type": "code",
   "execution_count": 47,
   "metadata": {},
   "outputs": [
    {
     "name": "stdout",
     "output_type": "stream",
     "text": [
      "a :  [1 2 3 4 5 6]\n",
      "\n",
      "a > 2    :  [False False  True  True  True  True]\n",
      "a[a > 2] :  [3 4 5 6]\n",
      "\n",
      "boolean_index     :  [ True False  True False  True  True]\n",
      "a[boolean_index]  :  [1 3 5 6]\n",
      "\n",
      "a[a!=3]              :  [1 2 4 5 6]\n",
      "a[(a > 2) & (a < 6)] :  [3 4 5]\n",
      "a[a % 2 == 0]        :  [2 4 6]\n",
      "a[a < a.mean()]      :  [1 2 3]\n"
     ]
    }
   ],
   "source": [
    "a = np.array([1,2,3,4,5,6])\n",
    "print('a : ',a)\n",
    "\n",
    "print('\\na > 2    : ',a > 2)\n",
    "print('a[a > 2] : ',a[a > 2]) # 배열 a에서 2보다 큰 요소를 추출, 결과는 배열\n",
    "# print(a[[False, False,  True,  True,  True,  True]])\n",
    "\n",
    "boolean_index = np.array([True,False,True,False,True,True])\n",
    "print('\\nboolean_index     : ',boolean_index)\n",
    "print('a[boolean_index]  : ',a[boolean_index])\n",
    "\n",
    "print('\\na[a!=3]              : ',a[a!=3])             # 배열 a에서 3이 아닌 요소를 추출\n",
    "print('a[(a > 2) & (a < 6)] : ',a[(a > 2) & (a < 6)])  # 배열 a에서 2보다 크고 6보다 작은 요소를 추출\n",
    "print('a[a % 2 == 0]        : ',a[a % 2 == 0])         # 2의 배수(짝수)를 추출\n",
    "print('a[a < a.mean()]      : ',a[a < a.mean()])       # 평균보다 작은 값을 추출"
   ]
  },
  {
   "cell_type": "code",
   "execution_count": 67,
   "metadata": {},
   "outputs": [
    {
     "name": "stdout",
     "output_type": "stream",
     "text": [
      "a : \n",
      " [[ 0  1  2  3]\n",
      " [ 4  5  6  7]\n",
      " [ 8  9 10 11]] (3, 4)\n",
      "\n",
      "a.flatten = f : \n",
      " [ 0  1  2  3  4  5  6  7  8  9 10 11] (12,)\n",
      "\n",
      "데이터의 순서를 거꾸로\n",
      "a[::-1]      \n",
      " [[ 8  9 10 11]\n",
      " [ 4  5  6  7]\n",
      " [ 0  1  2  3]]\n",
      "a[:,::-1]   \n",
      " [[ 3  2  1  0]\n",
      " [ 7  6  5  4]\n",
      " [11 10  9  8]]\n",
      "a[::-1,::-1] \n",
      " [[11 10  9  8]\n",
      " [ 7  6  5  4]\n",
      " [ 3  2  1  0]]\n",
      "--------------------\n"
     ]
    }
   ],
   "source": [
    "# 배열의 형상 다루기 : reshape(), flatten()(편평화),transpose()(전치)\n",
    "\n",
    "# flatten() : 다차원 배열을 1차원으로 만든다\n",
    "a = np.arange(12).reshape(3,4)\n",
    "print('a : \\n',a,a.shape)\n",
    "\n",
    "f = a.flatten()      # (3,4)  ----> (12,)\n",
    "print('\\na.flatten = f : \\n',f,f.shape)\n",
    "\n",
    "# 데이터 순서를 거꾸로 변경\n",
    "print('\\n데이터의 순서를 거꾸로')\n",
    "print('a[::-1]      \\n',a[::-1])       # 행의 순서를 거꾸로 변경\n",
    "print('a[:,::-1]   \\n',a[:,::-1])     # 열의 순서를 거꾸로 변경\n",
    "print('a[::-1,::-1] \\n',a[::-1,::-1])  # 행과 열의 순서를 거꾸로 변경\n",
    "print('-'*20)\n"
   ]
  },
  {
   "cell_type": "code",
   "execution_count": 73,
   "metadata": {},
   "outputs": [
    {
     "name": "stdout",
     "output_type": "stream",
     "text": [
      "a\n",
      " [[ 0  1  2  3]\n",
      " [ 4  5  6  7]\n",
      " [ 8  9 10 11]]\n",
      "--------------------\n",
      "t= a.transpose\n",
      "--------------------\n",
      "t : \n",
      " [[ 0  4  8]\n",
      " [ 1  5  9]\n",
      " [ 2  6 10]\n",
      " [ 3  7 11]]\n",
      "--------------------\n",
      "(4, 3)\n",
      "--------------------\n",
      "a.T : \n",
      " [[ 0  4  8]\n",
      " [ 1  5  9]\n",
      " [ 2  6 10]\n",
      " [ 3  7 11]]\n",
      "--------------------\n",
      "[[0 0 0 0]\n",
      " [0 0 0 0]\n",
      " [0 0 0 0]]\n"
     ]
    }
   ],
   "source": [
    "a = np.arange(12).reshape(3,4)\n",
    "# transpose() : 전치 행렬 , 행과 열을 서로 맞바꾸는 함수\n",
    "print('a\\n',a)\n",
    "print('-'*20)\n",
    "print('t= a.transpose')\n",
    "t = a.transpose()\n",
    "print('-'*20)\n",
    "print('t : \\n',t)    # (3,4)  ---> (4,3)   , (x,y) --> (y,x)\n",
    "print('-'*20)\n",
    "print(t.shape)\n",
    "print('-'*20)\n",
    "print('a.T : \\n',a.T)          # transpose()함수와 동일한 결과\n",
    "print('-'*20)\n",
    "\n",
    "\n",
    "# 임시로 1차원으로 변경하여 데우터를 채우고 다시 원래의 shape을 갖는다\n",
    "# 배열의 요소 전체를 한번에 초기화 할때 사용\n",
    "a.flat = 0\n",
    "print(a)"
   ]
  },
  {
   "cell_type": "code",
   "execution_count": null,
   "metadata": {},
   "outputs": [],
   "source": []
  }
 ],
 "metadata": {
  "kernelspec": {
   "display_name": "Python 3.9.12 ('base')",
   "language": "python",
   "name": "python3"
  },
  "language_info": {
   "codemirror_mode": {
    "name": "ipython",
    "version": 3
   },
   "file_extension": ".py",
   "mimetype": "text/x-python",
   "name": "python",
   "nbconvert_exporter": "python",
   "pygments_lexer": "ipython3",
   "version": "3.9.12"
  },
  "orig_nbformat": 4,
  "vscode": {
   "interpreter": {
    "hash": "e4cce46d6be9934fbd27f9ca0432556941ea5bdf741d4f4d64c6cd7f8dfa8fba"
   }
  }
 },
 "nbformat": 4,
 "nbformat_minor": 2
}
